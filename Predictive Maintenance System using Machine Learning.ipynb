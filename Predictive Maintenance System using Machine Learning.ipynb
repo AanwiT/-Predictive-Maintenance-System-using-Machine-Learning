{
 "cells": [
  {
   "cell_type": "code",
   "execution_count": null,
   "id": "33c2a53f",
   "metadata": {},
   "outputs": [],
   "source": [
    "pip install pandas numpy matplotlib seaborn scikit-learn mysql-connector-python"
   ]
  },
  {
   "cell_type": "code",
   "execution_count": 110,
   "id": "79cc3dc2",
   "metadata": {},
   "outputs": [],
   "source": [
    "import pandas as pd\n",
    "import numpy as np\n",
    "import matplotlib.pyplot as plt\n",
    "import seaborn as sns\n",
    "from sklearn.model_selection import train_test_split\n",
    "from sklearn.ensemble import RandomForestClassifier, GradientBoostingClassifier\n",
    "from sklearn.metrics import classification_report, confusion_matrix\n",
    "import mysql.connector\n",
    "import pyodbc\n"
   ]
  },
  {
   "cell_type": "code",
   "execution_count": null,
   "id": "4fcd3bab",
   "metadata": {},
   "outputs": [],
   "source": [
    "!pip install sqlalchemy pymysql\n",
    "import joblib\n",
    "from sqlalchemy import create_engine"
   ]
  },
  {
   "cell_type": "code",
   "execution_count": null,
   "id": "6cbf2c99",
   "metadata": {},
   "outputs": [],
   "source": [
    "import pandas as pd\n",
    "\n",
    "# Load the dataset\n",
    "df = pd.read_csv('machine failure.csv')\n",
    "\n",
    "# Display the first few rows\n",
    "print(df.head())\n",
    "\n",
    "print(df.describe())\n",
    "print(df.info())"
   ]
  },
  {
   "cell_type": "code",
   "execution_count": null,
   "id": "b8f1f7a6",
   "metadata": {},
   "outputs": [],
   "source": [
    "print(df.isnull().sum())\n",
    "df = df.dropna()  # or use data.fillna() to fill missing values"
   ]
  },
  {
   "cell_type": "code",
   "execution_count": 114,
   "id": "417a16e2",
   "metadata": {},
   "outputs": [],
   "source": [
    "df = pd.get_dummies(df)"
   ]
  },
  {
   "cell_type": "code",
   "execution_count": 115,
   "id": "c539eec4",
   "metadata": {},
   "outputs": [],
   "source": [
    "X = df.drop('Machine failure', axis=1)  # Replace 'target_column' with your actual target column\n",
    "y = df['Machine failure']"
   ]
  },
  {
   "cell_type": "code",
   "execution_count": 116,
   "id": "c7ba496d",
   "metadata": {},
   "outputs": [],
   "source": [
    "from sklearn.model_selection import train_test_split\n",
    "\n",
    "X_train, X_test, y_train, y_test = train_test_split(X, y, test_size=0.3, random_state=42)"
   ]
  },
  {
   "cell_type": "code",
   "execution_count": null,
   "id": "1b39facd",
   "metadata": {},
   "outputs": [],
   "source": [
    "from sklearn.ensemble import RandomForestClassifier\n",
    "\n",
    "rf_model = RandomForestClassifier()\n",
    "rf_model.fit(X_train, y_train)"
   ]
  },
  {
   "cell_type": "code",
   "execution_count": null,
   "id": "99f7fd7f",
   "metadata": {},
   "outputs": [],
   "source": [
    "from sklearn.ensemble import GradientBoostingClassifier\n",
    "\n",
    "gb_model = GradientBoostingClassifier()\n",
    "gb_model.fit(X_train, y_train)"
   ]
  },
  {
   "cell_type": "code",
   "execution_count": null,
   "id": "b0df344d",
   "metadata": {},
   "outputs": [],
   "source": [
    "from sklearn.metrics import classification_report, confusion_matrix\n",
    "\n",
    "rf_predictions = rf_model.predict(X_test)\n",
    "print(confusion_matrix(y_test, rf_predictions))\n",
    "print(classification_report(y_test, rf_predictions))"
   ]
  },
  {
   "cell_type": "code",
   "execution_count": null,
   "id": "4e441826",
   "metadata": {},
   "outputs": [],
   "source": [
    "gb_predictions = gb_model.predict(X_test)\n",
    "print(confusion_matrix(y_test, gb_predictions))\n",
    "print(classification_report(y_test, gb_predictions))"
   ]
  },
  {
   "cell_type": "code",
   "execution_count": null,
   "id": "b164f710",
   "metadata": {},
   "outputs": [],
   "source": [
    "import seaborn as sns\n",
    "import matplotlib.pyplot as plt\n",
    "\n",
    "cm_rf = confusion_matrix(y_test, rf_predictions)\n",
    "sns.heatmap(cm_rf, annot=True, fmt='d', cmap='Blues')\n",
    "plt.title('Random Forest Confusion Matrix')\n",
    "plt.show()\n",
    "\n",
    "cm_gb = confusion_matrix(y_test, gb_predictions)\n",
    "sns.heatmap(cm_gb, annot=True, fmt='d', cmap='Reds')\n",
    "plt.title('Gradient Boosting Confusion Matrix')\n",
    "plt.show()"
   ]
  },
  {
   "cell_type": "code",
   "execution_count": 122,
   "id": "07825704",
   "metadata": {},
   "outputs": [
    {
     "data": {
      "text/plain": [
       "['gradient_boosting_model.pkl']"
      ]
     },
     "execution_count": 122,
     "metadata": {},
     "output_type": "execute_result"
    }
   ],
   "source": [
    "import joblib\n",
    "\n",
    "joblib.dump(rf_model, 'random_forest_model.pkl')\n",
    "joblib.dump(gb_model, 'gradient_boosting_model.pkl')"
   ]
  },
  {
   "cell_type": "code",
   "execution_count": 123,
   "id": "641234e0",
   "metadata": {},
   "outputs": [],
   "source": [
    "rf_model = joblib.load('random_forest_model.pkl')\n",
    "gb_model = joblib.load('gradient_boosting_model.pkl')"
   ]
  },
  {
   "cell_type": "code",
   "execution_count": null,
   "id": "f05febe7",
   "metadata": {},
   "outputs": [],
   "source": [
    "# Make predictions on the entire dataset\n",
    "rf_predictions = rf_model.predict(X)\n",
    "gb_predictions = gb_model.predict(X)\n",
    "\n",
    "# Add predictions to the dataframe\n",
    "df['rf_predictions'] = rf_predictions\n",
    "df['gb_predictions'] = gb_predictions\n",
    "\n",
    "# Select necessary columns for insertion\n",
    "predictions_df = df[['UDI', 'rf_predictions', 'gb_predictions']]\n",
    "\n",
    "# Rename columns if necessary to match your database schema\n",
    "predictions_df = predictions_df.rename(columns={'rf_predictions': 'rf_prediction', 'gb_predictions': 'gb_prediction'})\n",
    "\n",
    "predictions_df"
   ]
  },
  {
   "cell_type": "code",
   "execution_count": 129,
   "id": "5e0a0f7e",
   "metadata": {},
   "outputs": [],
   "source": [
    "from sqlalchemy import create_engine, Table, Column, Float, Integer, MetaData, DateTime, insert, func\n",
    "from sqlalchemy.orm import sessionmaker\n",
    "\n",
    "# Create the SQLAlchemy engine\n",
    "engine = create_engine(connection_string)\n",
    "metadata = MetaData()\n",
    "\n",
    "# Define the table schema\n",
    "predictions_table = Table(\n",
    "    'predictions_table', metadata,\n",
    "    Column('id', Integer, primary_key=True, autoincrement=True),\n",
    "    Column('TWF', Float),\n",
    "    Column('HDF', Float),\n",
    "    Column('PWF', Float),\n",
    "    Column('OSF', Float),\n",
    "    Column('RNF', Float),\n",
    "    Column('rf_prediction', Integer),\n",
    "    Column('gb_prediction', Integer),\n",
    "    Column('timestamp', DateTime, default=func.now())\n",
    ")\n",
    "\n",
    "# Create a session\n",
    "Session = sessionmaker(bind=engine)\n",
    "session = Session()\n",
    "\n",
    "# Prepare data for insertion\n",
    "predictions_df = df[['TWF', 'HDF', 'PWF', 'OSF', 'RNF', 'rf_predictions', 'gb_predictions']]\n",
    "predictions_df = predictions_df.rename(columns={'rf_predictions': 'rf_prediction', 'gb_predictions': 'gb_prediction'})\n",
    "\n",
    "# Convert DataFrame to dictionary format for insertion\n",
    "data = predictions_df.to_dict(orient='records')\n",
    "\n",
    "try:\n",
    "    # Insert data into the table\n",
    "    with engine.connect() as conn:\n",
    "        conn.execute(insert(predictions_table), data)\n",
    "    # Commit the transaction\n",
    "    session.commit()\n",
    "except Exception as e:\n",
    "    print(f\"An error occurred: {e}\")\n",
    "finally:\n",
    "    session.close()"
   ]
  },
  {
   "cell_type": "code",
   "execution_count": null,
   "id": "da2f3d66",
   "metadata": {},
   "outputs": [],
   "source": [
    "from sqlalchemy import select\n",
    "\n",
    "# Create a new session\n",
    "with engine.connect() as conn:\n",
    "    result = conn.execute(select(predictions_table))\n",
    "    for row in result:\n",
    "        print(row)"
   ]
  },
  {
   "cell_type": "code",
   "execution_count": null,
   "id": "324591f7",
   "metadata": {},
   "outputs": [],
   "source": [
    "import pandas as pd\n",
    "from sklearn.model_selection import train_test_split\n",
    "from sklearn.ensemble import RandomForestClassifier\n",
    "from sklearn.metrics import classification_report, accuracy_score\n",
    "import joblib\n",
    "\n",
    "# Load your dataset\n",
    "data = pd.read_csv('machine failure.csv')\n",
    "\n",
    "# Prepare features and target variable\n",
    "X = data[['TWF', 'HDF', 'PWF', 'OSF', 'RNF']]\n",
    "y = data['Machine failure']\n",
    "\n",
    "# Split data into training and testing sets\n",
    "X_train, X_test, y_train, y_test = train_test_split(X, y, test_size=0.2, random_state=42)\n",
    "\n",
    "# Initialize and train the model\n",
    "model = RandomForestClassifier()\n",
    "model.fit(X_train, y_train)\n",
    "\n",
    "# Evaluate the model\n",
    "y_pred = model.predict(X_test)\n",
    "print(classification_report(y_test, y_pred))\n",
    "print(f\"Accuracy: {accuracy_score(y_test, y_pred)}\")\n",
    "\n",
    "# Save the model\n",
    "joblib.dump(model, 'machine_failure_model.pkl')"
   ]
  },
  {
   "cell_type": "code",
   "execution_count": null,
   "id": "8591b687",
   "metadata": {},
   "outputs": [],
   "source": [
    "import joblib\n",
    "import pandas as pd\n",
    "\n",
    "# Load the trained model\n",
    "model = joblib.load('machine_failure_model.pkl')\n",
    "\n",
    "# Example input data\n",
    "new_data = pd.DataFrame({\n",
    "    'TWF': [0],\n",
    "    'HDF': [1],\n",
    "    'PWF': [0],\n",
    "    'OSF': [0],\n",
    "    'RNF': [1]\n",
    "})\n",
    "\n",
    "# Predict machine failure\n",
    "predictions = model.predict(new_data)\n",
    "print(predictions)  # This will print 0 or 1"
   ]
  }
 ],
 "metadata": {
  "kernelspec": {
   "display_name": "Python 3 (ipykernel)",
   "language": "python",
   "name": "python3"
  },
  "language_info": {
   "codemirror_mode": {
    "name": "ipython",
    "version": 3
   },
   "file_extension": ".py",
   "mimetype": "text/x-python",
   "name": "python",
   "nbconvert_exporter": "python",
   "pygments_lexer": "ipython3",
   "version": "3.11.5"
  }
 },
 "nbformat": 4,
 "nbformat_minor": 5
}
